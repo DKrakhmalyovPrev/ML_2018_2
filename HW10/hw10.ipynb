{
 "cells": [
  {
   "cell_type": "markdown",
   "metadata": {},
   "source": [
    "<span style=\"font-size: 14pt\">MIPT, Advanced ML, Autumn 2017</span>\n",
    "\n",
    "<span style=\"font-size: 16pt\"> HW #10: Recommender Systems\n",
    "\n",
    "<span style=\"color:blue; font-size: 12pt\">Andrey Saitgalin </span>,\n",
    "<span style=\"color:blue; font-size: 12pt; font-family: 'Verdana'\"> andrey.saitgalin@gmail.com </span>"
   ]
  },
  {
   "cell_type": "markdown",
   "metadata": {},
   "source": [
    "<h1 align=\"center\">Organization Info</h1> \n",
    "\n",
    "* Дедлайн **18 декабря 23:59** для всех групп.\n",
    "* В качестве решения задания нужно прислать ноутбук с подробными комментариями (<span style='color:red'> без присланного решения результат контеста не будет засчитан </span>).\n",
    "* <span style='color:red'>Название команды в контесте должно соответствовать шаблону: НомерГруппы_Имя_Фамилия, например, 494_Ivan_Ivanov</span>."
   ]
  },
  {
   "cell_type": "markdown",
   "metadata": {},
   "source": [
    "**Оформление дз**: \n",
    "- Присылайте выполненное задание на почту ``ml.course.mipt@gmail.com``\n",
    "- Укажите тему письма в следующем формате ``ML2017_Aut_fall <номер_группы> <фамилия>``, к примеру -- ``ML2017_Aut_fall 401 ivanov``\n",
    "- Выполненное дз сохраните в файл ``<фамилия>_<группа>_task<номер>.ipnb``, к примеру -- ``ivanov_401_task10.ipnb``\n",
    "\n",
    "**Вопросы**:\n",
    "- Присылайте вопросы на почту ``ml.course.mipt@gmail.com``\n",
    "- Укажите тему письма в следующем формате ``ML2017_Aut_fall Question <Содержание вопроса>``\n",
    "\n",
    "\n",
    "--------\n",
    "- **PS1**: Мы используем автоматические фильтры, и просто не найдем ваше дз, если вы не аккуратно его подпишите.\n",
    "- **PS2**: Напоминаем, что дедлайны жесткие, письма пришедшие после автоматически удаляются =( чтобы соблазна не было."
   ]
  },
  {
   "cell_type": "markdown",
   "metadata": {},
   "source": [
    "<h1 align=\"center\">Contest (100%)</h1> \n",
    "* Ссылка на контест: https://www.kaggle.com/t/f37413eb448145acba822f3a8c43946d"
   ]
  },
  {
   "cell_type": "code",
   "execution_count": 2,
   "metadata": {
    "collapsed": true
   },
   "outputs": [],
   "source": [
    "import numpy as np\n",
    "\n",
    "import pandas as pd\n",
    "from IPython.display import display\n",
    "\n",
    "from scipy.sparse import coo_matrix\n",
    "import matplotlib.pyplot as plt\n",
    "import seaborn as sns\n",
    "\n",
    "from collections import Counter\n",
    "\n",
    "\n",
    "import numpy as np\n",
    "import pandas as pd\n",
    "from scipy.sparse import coo_matrix, csr_matrix, csc_matrix\n",
    "import matplotlib.pyplot as plt\n",
    "import seaborn as sns\n",
    "from sklearn.metrics.pairwise import cosine_similarity\n",
    "\n",
    "\n",
    "%matplotlib inline"
   ]
  },
  {
   "cell_type": "code",
   "execution_count": 3,
   "metadata": {},
   "outputs": [
    {
     "data": {
      "text/html": [
       "<div>\n",
       "<style>\n",
       "    .dataframe thead tr:only-child th {\n",
       "        text-align: right;\n",
       "    }\n",
       "\n",
       "    .dataframe thead th {\n",
       "        text-align: left;\n",
       "    }\n",
       "\n",
       "    .dataframe tbody tr th {\n",
       "        vertical-align: top;\n",
       "    }\n",
       "</style>\n",
       "<table border=\"1\" class=\"dataframe\">\n",
       "  <thead>\n",
       "    <tr style=\"text-align: right;\">\n",
       "      <th></th>\n",
       "      <th>rating</th>\n",
       "      <th>movieId</th>\n",
       "      <th>userId</th>\n",
       "    </tr>\n",
       "  </thead>\n",
       "  <tbody>\n",
       "    <tr>\n",
       "      <th>0</th>\n",
       "      <td>3.0</td>\n",
       "      <td>2158</td>\n",
       "      <td>10953099004185006703</td>\n",
       "    </tr>\n",
       "    <tr>\n",
       "      <th>1</th>\n",
       "      <td>3.5</td>\n",
       "      <td>12959</td>\n",
       "      <td>10953099004185006703</td>\n",
       "    </tr>\n",
       "    <tr>\n",
       "      <th>2</th>\n",
       "      <td>3.5</td>\n",
       "      <td>7808</td>\n",
       "      <td>10953099004185006703</td>\n",
       "    </tr>\n",
       "    <tr>\n",
       "      <th>3</th>\n",
       "      <td>4.0</td>\n",
       "      <td>9049</td>\n",
       "      <td>4762492897681260571</td>\n",
       "    </tr>\n",
       "    <tr>\n",
       "      <th>4</th>\n",
       "      <td>3.0</td>\n",
       "      <td>12363</td>\n",
       "      <td>2110017552365950661</td>\n",
       "    </tr>\n",
       "  </tbody>\n",
       "</table>\n",
       "</div>"
      ],
      "text/plain": [
       "   rating  movieId                userId\n",
       "0     3.0     2158  10953099004185006703\n",
       "1     3.5    12959  10953099004185006703\n",
       "2     3.5     7808  10953099004185006703\n",
       "3     4.0     9049   4762492897681260571\n",
       "4     3.0    12363   2110017552365950661"
      ]
     },
     "execution_count": 3,
     "metadata": {},
     "output_type": "execute_result"
    }
   ],
   "source": [
    "train = pd.read_csv(\"train.csv\")\n",
    "train.head()"
   ]
  },
  {
   "cell_type": "code",
   "execution_count": 4,
   "metadata": {
    "collapsed": true
   },
   "outputs": [],
   "source": [
    "train.userId = train.userId.astype('uint64')"
   ]
  },
  {
   "cell_type": "code",
   "execution_count": 5,
   "metadata": {},
   "outputs": [
    {
     "data": {
      "text/html": [
       "<div>\n",
       "<style>\n",
       "    .dataframe thead tr:only-child th {\n",
       "        text-align: right;\n",
       "    }\n",
       "\n",
       "    .dataframe thead th {\n",
       "        text-align: left;\n",
       "    }\n",
       "\n",
       "    .dataframe tbody tr th {\n",
       "        vertical-align: top;\n",
       "    }\n",
       "</style>\n",
       "<table border=\"1\" class=\"dataframe\">\n",
       "  <thead>\n",
       "    <tr style=\"text-align: right;\">\n",
       "      <th></th>\n",
       "      <th>rating</th>\n",
       "      <th>movieId</th>\n",
       "      <th>userId</th>\n",
       "    </tr>\n",
       "  </thead>\n",
       "  <tbody>\n",
       "    <tr>\n",
       "      <th>0</th>\n",
       "      <td>3.0</td>\n",
       "      <td>2158</td>\n",
       "      <td>10953099004185006703</td>\n",
       "    </tr>\n",
       "    <tr>\n",
       "      <th>1</th>\n",
       "      <td>3.5</td>\n",
       "      <td>12959</td>\n",
       "      <td>10953099004185006703</td>\n",
       "    </tr>\n",
       "  </tbody>\n",
       "</table>\n",
       "</div>"
      ],
      "text/plain": [
       "   rating  movieId                userId\n",
       "0     3.0     2158  10953099004185006703\n",
       "1     3.5    12959  10953099004185006703"
      ]
     },
     "execution_count": 5,
     "metadata": {},
     "output_type": "execute_result"
    }
   ],
   "source": [
    "train.head(2)"
   ]
  },
  {
   "cell_type": "code",
   "execution_count": 6,
   "metadata": {},
   "outputs": [
    {
     "data": {
      "text/plain": [
       "57043719"
      ]
     },
     "metadata": {},
     "output_type": "display_data"
    },
    {
     "data": {
      "text/plain": [
       "18345"
      ]
     },
     "metadata": {},
     "output_type": "display_data"
    },
    {
     "data": {
      "text/plain": [
       "138493"
      ]
     },
     "metadata": {},
     "output_type": "display_data"
    }
   ],
   "source": [
    "display(train.size)\n",
    "display(train.movieId.max())\n",
    "display(len(set(train.userId)))"
   ]
  },
  {
   "cell_type": "code",
   "execution_count": 7,
   "metadata": {},
   "outputs": [
    {
     "name": "stderr",
     "output_type": "stream",
     "text": [
      "D:\\Anaconda3\\lib\\site-packages\\IPython\\core\\interactiveshell.py:2698: DtypeWarning: Columns (1) have mixed types. Specify dtype option on import or set low_memory=False.\n",
      "  interactivity=interactivity, compiler=compiler, result=result)\n"
     ]
    },
    {
     "data": {
      "text/html": [
       "<div>\n",
       "<style>\n",
       "    .dataframe thead tr:only-child th {\n",
       "        text-align: right;\n",
       "    }\n",
       "\n",
       "    .dataframe thead th {\n",
       "        text-align: left;\n",
       "    }\n",
       "\n",
       "    .dataframe tbody tr th {\n",
       "        vertical-align: top;\n",
       "    }\n",
       "</style>\n",
       "<table border=\"1\" class=\"dataframe\">\n",
       "  <thead>\n",
       "    <tr style=\"text-align: right;\">\n",
       "      <th></th>\n",
       "      <th>Id</th>\n",
       "      <th>movieId</th>\n",
       "      <th>userId</th>\n",
       "    </tr>\n",
       "  </thead>\n",
       "  <tbody>\n",
       "    <tr>\n",
       "      <th>0</th>\n",
       "      <td>1</td>\n",
       "      <td>939</td>\n",
       "      <td>3128775.0</td>\n",
       "    </tr>\n",
       "    <tr>\n",
       "      <th>1</th>\n",
       "      <td>2</td>\n",
       "      <td>19</td>\n",
       "      <td>60588779.0</td>\n",
       "    </tr>\n",
       "    <tr>\n",
       "      <th>2</th>\n",
       "      <td>3</td>\n",
       "      <td>1213</td>\n",
       "      <td>278728.0</td>\n",
       "    </tr>\n",
       "    <tr>\n",
       "      <th>3</th>\n",
       "      <td>4</td>\n",
       "      <td>1141</td>\n",
       "      <td>141994.0</td>\n",
       "    </tr>\n",
       "    <tr>\n",
       "      <th>4</th>\n",
       "      <td>5</td>\n",
       "      <td>2935</td>\n",
       "      <td>595805.0</td>\n",
       "    </tr>\n",
       "  </tbody>\n",
       "</table>\n",
       "</div>"
      ],
      "text/plain": [
       "   Id movieId      userId\n",
       "0   1     939   3128775.0\n",
       "1   2      19  60588779.0\n",
       "2   3    1213    278728.0\n",
       "3   4    1141    141994.0\n",
       "4   5    2935    595805.0"
      ]
     },
     "execution_count": 7,
     "metadata": {},
     "output_type": "execute_result"
    }
   ],
   "source": [
    "test = pd.read_csv(\"test.csv\")\n",
    "#test.userId = test.userId.astype('uint64')\n",
    "test.head()"
   ]
  },
  {
   "cell_type": "code",
   "execution_count": null,
   "metadata": {
    "collapsed": true
   },
   "outputs": [],
   "source": [
    "user_to_compress_id = {}\n",
    "compress_to_user_id = {}\n",
    "\n",
    "def add_id_to_compress(i):\n",
    "    if i not in user_to_compress_id:\n",
    "        cid = len(compress_to_user_id)\n",
    "        user_to_compress_id[i] = cid\n",
    "        compress_to_user_id[cid] = i\n",
    "\n",
    "for i, row in test.iterrows():\n",
    "    add_id_to_compress(row.userId)\n",
    "    \n",
    "for i, row in train.iterrows():\n",
    "    add_id_to_compress(row.userId)"
   ]
  },
  {
   "cell_type": "code",
   "execution_count": null,
   "metadata": {
    "collapsed": true
   },
   "outputs": [],
   "source": [
    "test[\"userId2\"] = test[\"userId\"]\n",
    "\n",
    "ui2 = []\n",
    "\n",
    "for i, row in test.iterrows():\n",
    "    ui2.append(user_to_compress_id[row.userId])\n",
    "\n",
    "test[\"userId2\"] = np.array(ui2)\n",
    "\n",
    "display(test.head())"
   ]
  },
  {
   "cell_type": "code",
   "execution_count": null,
   "metadata": {
    "collapsed": true
   },
   "outputs": [],
   "source": [
    "train[\"userId2\"] = train[\"userId\"]\n",
    "\n",
    "ui2 = []\n",
    "\n",
    "for i, row in train.iterrows():\n",
    "    ui2.append(user_to_compress_id[row.userId])\n",
    "\n",
    "train[\"userId2\"] = np.array(ui2)\n",
    "\n",
    "display(train.head())"
   ]
  },
  {
   "cell_type": "code",
   "execution_count": null,
   "metadata": {
    "collapsed": true
   },
   "outputs": [],
   "source": [
    "import time\n",
    "from scipy.sparse.linalg import svds\n",
    "\n",
    "df = train\n",
    "\n",
    "# df[\"random\"] = np.random.random(size=(df.shape[0], 1))\n",
    "# idx = df.sort_values(by=\"random\") \\\n",
    "#     .reset_index() \\\n",
    "#     .groupby(\"userId\") \\\n",
    "#     .head(n=7)[\"index\"]\n",
    "\n",
    "# mask = df.index.isin(idx)\n",
    "# train_df = df[~mask]\n",
    "# test_df = df[mask]\n",
    "\n",
    "train_df = df\n",
    "    \n",
    "train_M = csr_matrix(\n",
    "    (train_df[\"rating\"], (train_df[\"userId2\"], train_df[\"movieId\"] - 1)), shape=(138493, 26744))"
   ]
  },
  {
   "cell_type": "code",
   "execution_count": null,
   "metadata": {
    "collapsed": true
   },
   "outputs": [],
   "source": [
    "train_M_mean = train_M.mean()\n",
    "\n",
    "#M2 = (train_M / train_M.mean(axis=1))\n",
    "\n",
    "#U, S, Vt = svds(M2, k=100)\n",
    "U, S, Vt = svds(train_M, k=100)"
   ]
  },
  {
   "cell_type": "code",
   "execution_count": null,
   "metadata": {
    "collapsed": true
   },
   "outputs": [],
   "source": [
    "class ErrorAggregator(object):\n",
    "    def __init__(self):\n",
    "        self.sum_ = 0.0\n",
    "        self.count = 0\n",
    "        \n",
    "    def add_value(self, x, count):\n",
    "        self.sum_ += x\n",
    "        self.count += count\n",
    "        \n",
    "    def get_rmse(self):\n",
    "        return np.sqrt(self.sum_ / (self.count - 1))\n",
    "    \n",
    "svd_error = ErrorAggregator()\n",
    "mean_error = ErrorAggregator()\n",
    "times = []"
   ]
  },
  {
   "cell_type": "code",
   "execution_count": null,
   "metadata": {
    "collapsed": true
   },
   "outputs": [],
   "source": [
    "for user_id, group in train[:10000].groupby(\"userId2\"):\n",
    "    start_time = time.time()\n",
    "    \n",
    "    uvec = U[user_id, :] * S\n",
    "    \n",
    "    movie_ids = group[\"movieId\"] - 1\n",
    "    ratings = group[\"rating\"]\n",
    "    \n",
    "    diff = (uvec.dot(Vt[:, movie_ids]) - ratings.values) ** 2\n",
    "    svd_error.add_value(np.sum(diff), len(diff))\n",
    "    \n",
    "    mean_diff = (ratings.values - train_M_mean) ** 2\n",
    "    mean_error.add_value(np.sum(mean_diff), len(mean_diff))\n",
    "    \n",
    "    times.append(time.time() - start_time)\n",
    "\n",
    "print(\"RMSE:\", svd_error.get_rmse())\n",
    "print(\"Random RMSE:\", mean_error.get_rmse())\n",
    "print(\"Average evaluation time:\", np.mean(times))"
   ]
  },
  {
   "cell_type": "code",
   "execution_count": null,
   "metadata": {
    "collapsed": true
   },
   "outputs": [],
   "source": [
    "results = []\n",
    "\n",
    "tt = train[:10000].copy()\n",
    "\n",
    "for user_id, group in tt.groupby(\"userId2\"):\n",
    "    start_time = time.time()\n",
    "    uvec = U[user_id, :] * S\n",
    "    movie_ids = group[\"movieId\"] - 1    \n",
    "    results.append((user_id, movie_ids, uvec.dot(Vt[:, movie_ids])))\n",
    "\n",
    "    \n",
    "res2 = {}\n",
    "for r in results:\n",
    "    for m, ri in zip(r[1], r[2]):\n",
    "        res2[(int(r[0]), int(m))] = ri\n",
    "        \n",
    "prating = []\n",
    "\n",
    "for i, row in tt.iterrows():\n",
    "    prating.append(res2[(int(row.userId2), int(row.movieId) - 1)])\n",
    "    \n",
    "\n",
    "\n",
    "prating = reshape(np.array(prating), hist_shape, hist_xs)\n",
    "    \n",
    "tt[\"rating2\"] = np.array(prating)\n",
    "\n",
    "print(tt.rating.mean())\n",
    "\n",
    "plt.hist(tt.rating)\n",
    "plt.show()\n",
    "\n",
    "tt.head()\n",
    "\n",
    "print((((tt[\"rating\"] - tt[\"rating2\"]) ** 2).sum() / len(tt)) ** 0.5)"
   ]
  },
  {
   "cell_type": "code",
   "execution_count": null,
   "metadata": {
    "collapsed": true
   },
   "outputs": [],
   "source": [
    "results = []\n",
    "\n",
    "for user_id, group in test.groupby(\"userId2\"):\n",
    "    start_time = time.time()\n",
    "    uvec = U[user_id, :] * S\n",
    "    movie_ids = group[\"movieId\"] - 1    \n",
    "    results.append((user_id, movie_ids, uvec.dot(Vt[:, movie_ids])))"
   ]
  },
  {
   "cell_type": "code",
   "execution_count": null,
   "metadata": {
    "collapsed": true
   },
   "outputs": [],
   "source": [
    "res2 = {}\n",
    "for r in results:\n",
    "    for m, ri in zip(r[1], r[2]):\n",
    "        res2[(int(r[0]), int(m))] = ri"
   ]
  },
  {
   "cell_type": "code",
   "execution_count": null,
   "metadata": {
    "collapsed": true
   },
   "outputs": [],
   "source": [
    "prating = []\n",
    "\n",
    "for i, row in test.iterrows():\n",
    "    prating.append(res2[(int(row.userId2), int(row.movieId) - 1)])"
   ]
  },
  {
   "cell_type": "code",
   "execution_count": null,
   "metadata": {
    "collapsed": true
   },
   "outputs": [],
   "source": [
    "prating = np.array(prating)\n",
    "test[\"rating\"] = prating"
   ]
  },
  {
   "cell_type": "code",
   "execution_count": null,
   "metadata": {
    "collapsed": true
   },
   "outputs": [],
   "source": [
    "answer = pd.read_csv('baseline.csv')\n",
    "print(answer.rating.mean())\n",
    "answer[\"rating\"] = test[\"rating\"]\n",
    "print(answer.rating.mean())\n",
    "answer.to_csv(\"to_send.csv\", index=False)"
   ]
  },
  {
   "cell_type": "code",
   "execution_count": null,
   "metadata": {
    "collapsed": true
   },
   "outputs": [],
   "source": [
    "train.rating.mean()"
   ]
  },
  {
   "cell_type": "code",
   "execution_count": null,
   "metadata": {
    "collapsed": true
   },
   "outputs": [],
   "source": [
    "plt.hist(answer.rating, bins=50)\n",
    "plt.show()"
   ]
  },
  {
   "cell_type": "code",
   "execution_count": null,
   "metadata": {
    "collapsed": true
   },
   "outputs": [],
   "source": [
    "answer.rating.mean()"
   ]
  },
  {
   "cell_type": "code",
   "execution_count": null,
   "metadata": {
    "collapsed": true
   },
   "outputs": [],
   "source": [
    "import numpy as np"
   ]
  },
  {
   "cell_type": "code",
   "execution_count": null,
   "metadata": {
    "collapsed": true
   },
   "outputs": [],
   "source": [
    "\n",
    "a = plt.hist(train.rating, bins=10)\n",
    "plt.show()"
   ]
  },
  {
   "cell_type": "code",
   "execution_count": null,
   "metadata": {
    "collapsed": true
   },
   "outputs": [],
   "source": []
  }
 ],
 "metadata": {
  "kernelspec": {
   "display_name": "Python 3",
   "language": "python",
   "name": "python3"
  },
  "language_info": {
   "codemirror_mode": {
    "name": "ipython",
    "version": 3
   },
   "file_extension": ".py",
   "mimetype": "text/x-python",
   "name": "python",
   "nbconvert_exporter": "python",
   "pygments_lexer": "ipython3",
   "version": "3.6.2"
  }
 },
 "nbformat": 4,
 "nbformat_minor": 1
}
